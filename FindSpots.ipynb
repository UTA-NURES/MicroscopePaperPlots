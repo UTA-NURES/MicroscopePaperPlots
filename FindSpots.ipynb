{
 "cells": [
  {
   "cell_type": "code",
   "execution_count": null,
   "id": "94ebbd0c",
   "metadata": {},
   "outputs": [],
   "source": [
    "import numpy as np\n",
    "import pylab as plt\n",
    "import pandas as pd\n",
    "import os\n",
    "%matplotlib inline\n",
    "import pickle\n",
    "from Image import *"
   ]
  },
  {
   "cell_type": "code",
   "execution_count": null,
   "id": "de49a8cb",
   "metadata": {},
   "outputs": [],
   "source": [
    "\n",
    "SeqLength=998\n",
    "FillLength=4\n"
   ]
  },
  {
   "cell_type": "code",
   "execution_count": null,
   "id": "61b390e7",
   "metadata": {},
   "outputs": [],
   "source": [
    "for ext in ['10BarXe_Long']:\n",
    "    Root=\"/Users/ben.jones/Documents/Data/MicroscopePaper/OnSlides/10BarXe_Long_1/\"\n",
    "\n",
    "    ConfCut=3\n",
    "    SpotsDict={'Heights':[],\n",
    "              'Times':[],\n",
    "              'Confs':[],\n",
    "              'Traces':[],\n",
    "              'X':[],\n",
    "              'Y':[],\n",
    "              'Im':[],\n",
    "              'Folder':[],\n",
    "              'IntegralBefore':[],\n",
    "              'IntegralAfter':[],\n",
    "              'Integral':[],\n",
    "              'Hs':[]}\n",
    "    for i in range(1,4):\n",
    "        \n",
    "        filenames=[]\n",
    "        for j in range(0,SeqLength):\n",
    "            filenames.append(Root+str(i)+\"/im_\"+str(j).zfill(FillLength)+\".txt\")\n",
    "        settings=SequenceSettings()\n",
    "        settings.imtype='txt'\n",
    "        settings.TopN=100\n",
    "        Seq=Sequence(filenames,settings)    \n",
    "        for spot in range(0,100):\n",
    "            TimeSeq=Seq.GetTimeSeq(spot)\n",
    "            Locs,StepHeight,StepConfidence=Seq.StepMetric(TimeSeq)\n",
    "    \n",
    "            if(sum(np.array(StepConfidence)>ConfCut)>0):\n",
    "                for s in np.argwhere(np.array(StepConfidence)>ConfCut)[0]:\n",
    "                    #print(s)\n",
    "                    plt.plot([Locs[s],Locs[s]],[0,np.max(TimeSeq)*1.1],color='red')\n",
    "                    SpotsDict['Times'].append(Locs[s])\n",
    "                    SpotsDict['Heights'].append(StepHeight[s])\n",
    "                    SpotsDict['Confs'].append(StepConfidence[s])\n",
    "                    SpotsDict['Traces'].append(TimeSeq)\n",
    "                    SpotsDict['X'].append(Seq.Found[spot,0])\n",
    "                    SpotsDict['Y'].append(Seq.Found[spot,1])\n",
    "                    SpotsDict['Hs'].append(sum(TimeSeq[Locs[s]-5:Locs[s]])/5.-sum(TimeSeq[Locs[s]+1:Locs[s]+6])/5.)\n",
    "                    SpotsDict['Im'].append(i)\n",
    "                    SpotsDict['Folder'].append(i)\n",
    "                    SpotsDict['IntegralBefore'].append(sum(TimeSeq[0:s]))\n",
    "                    SpotsDict['IntegralAfter'].append(sum(TimeSeq[s:]))  \n",
    "                    SpotsDict['Integral'].append(sum(TimeSeq))\n",
    "        #Seq.MakeGif(\"./air\"+str(i)+\".gif\")\n",
    "    f=open(Root+\"/spots.dat\",'wb')\n",
    "    pickle.dump(SpotsDict,f)\n",
    "    f.close()\n"
   ]
  },
  {
   "cell_type": "code",
   "execution_count": null,
   "id": "46631123",
   "metadata": {},
   "outputs": [],
   "source": []
  }
 ],
 "metadata": {
  "kernelspec": {
   "display_name": "Python 3 (ipykernel)",
   "language": "python",
   "name": "python3"
  },
  "language_info": {
   "codemirror_mode": {
    "name": "ipython",
    "version": 3
   },
   "file_extension": ".py",
   "mimetype": "text/x-python",
   "name": "python",
   "nbconvert_exporter": "python",
   "pygments_lexer": "ipython3",
   "version": "3.12.4"
  }
 },
 "nbformat": 4,
 "nbformat_minor": 5
}
